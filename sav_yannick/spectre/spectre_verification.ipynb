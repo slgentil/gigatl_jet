{
 "cells": [
  {
   "cell_type": "code",
   "execution_count": 1,
   "id": "9a15b269",
   "metadata": {},
   "outputs": [],
   "source": [
    "# Audrey D.\n",
    "# Mar. 2020\n",
    "\n",
    "# from spectrum2D import *\n",
    "import matplotlib.pyplot as plt\n",
    "import numpy as np\n",
    "from scipy.fftpack import fftfreq, fft, fft2, fftshift\n",
    "from scipy.signal import tukey, detrend\n",
    "\n",
    "from scipy.interpolate import interp2d\n",
    "\n",
    "import xarray as xr"
   ]
  },
  {
   "cell_type": "code",
   "execution_count": 2,
   "id": "c7f9de21",
   "metadata": {
    "scrolled": true
   },
   "outputs": [
    {
     "name": "stdout",
     "output_type": "stream",
     "text": [
      "omega (cycle/s) =  2.0200570046230667e-06\n",
      "kx (cycle/m) =  -8.726646259971648e-06\n",
      "omega (/s) =  3.2150205761316875e-07\n",
      "kx (/m) =  -1.388888888888889e-06\n"
     ]
    }
   ],
   "source": [
    "omega = 2*np.pi/(36*86400)\n",
    "kxkx = -2*np.pi/(720e3)\n",
    "\n",
    "print('omega (cycle/s) = ',omega)\n",
    "print('kx (cycle/m) = ',kxkx)\n",
    "print('omega (/s) = ',omega/(2*np.pi))\n",
    "print('kx (/m) = ',kxkx/(2*np.pi))\n",
    "\n",
    "\n",
    "nt = 200\n",
    "nx = 200\n",
    "dx = 20e3\n",
    "dt = 86400 * 4\n",
    "\n",
    "tt = np.arange(0,nt)*dt\n",
    "xx = np.arange(0,nx)*dx\n",
    "\n",
    "vvv = np.ones((nt,nx))\n",
    "\n",
    "for i in range(0,nt):\n",
    "    vvv[i] = np.cos((kxkx*xx-omega*tt[i]))"
   ]
  },
  {
   "cell_type": "code",
   "execution_count": 3,
   "id": "8df8f790",
   "metadata": {},
   "outputs": [],
   "source": [
    "def compute_2d_spectrum(F,nx,ny,dx,dy):\n",
    "    \"\"\"\n",
    "    Compute 2d spectrum by using the \n",
    "    2d fast fourier transform\n",
    "    \"\"\"\n",
    "    ### detrend\n",
    "    Fdtr = detrend(detrend(F,axis=1),axis=0)\n",
    "\n",
    "    ## Window Tapering\n",
    "    cff_tukey = 0.5\n",
    "    wdw_y = tukey(ny, cff_tukey)\n",
    "    wdw_x = tukey(nx, cff_tukey)\n",
    "    wdw = np.outer(wdw_x,wdw_y)\n",
    "    Ftpr = Fdtr * wdw[:,:]\n",
    "\n",
    "    ### spectre 2d\n",
    "    Fsp = np.zeros(Ftpr.shape)\n",
    "    ld = 1./dy * 1./dx * (wdw**2).sum()\n",
    "\n",
    "    pu = fftshift(fft2(Ftpr))\n",
    "    Fsp = (np.conjugate(pu)*pu).real/ ld\n",
    "\n",
    "    ### Wavelength and period\n",
    "    kx = fftshift(fftfreq(nx,dx))\n",
    "    ky = fftshift(fftfreq(ny,dy))\n",
    "\n",
    "    return kx, ky, Fsp\n",
    "\n",
    "\n",
    "Fsp=[]\n",
    "\n",
    "w, kx, Fsp = compute_2d_spectrum(vvv,nt,nx,dt,dx)"
   ]
  },
  {
   "cell_type": "code",
   "execution_count": 6,
   "id": "e5d5cdc0",
   "metadata": {},
   "outputs": [
    {
     "data": {
      "image/png": "[encoded data removed]",
      "text/plain": [
       "<Figure size 864x576 with 2 Axes>"
      ]
     },
     "metadata": {
      "needs_background": "light"
     },
     "output_type": "display_data"
    }
   ],
   "source": [
    "OMEGA,KX = np.meshgrid(w,kx)\n",
    "\n",
    "plt.figure(figsize=(12,8))\n",
    "\n",
    "ax = plt.subplot(111)\n",
    "plt.grid('on')\n",
    "    \n",
    "cax = ax.contourf(-KX,OMEGA,Fsp.T*1e-14,cmap=plt.cm.jet)\n",
    "cbar=plt.colorbar(cax)\n",
    "    \n",
    "ax.set_xlim(-1e-5,0.1e-6)\n",
    "ax.set_ylim(-0.,1e-6)\n",
    "\n",
    "plt.show()\n",
    "plt.close()"
   ]
  },
  {
   "cell_type": "code",
   "execution_count": null,
   "id": "0addb7cd",
   "metadata": {},
   "outputs": [],
   "source": []
  }
 ],
 "metadata": {
  "kernelspec": {
   "display_name": "Python 3",
   "language": "python",
   "name": "python3"
  },
  "language_info": {
   "codemirror_mode": {
    "name": "ipython",
    "version": 3
   },
   "file_extension": ".py",
   "mimetype": "text/x-python",
   "name": "python",
   "nbconvert_exporter": "python",
   "pygments_lexer": "ipython3",
   "version": "3.7.10"
  }
 },
 "nbformat": 4,
 "nbformat_minor": 5
}

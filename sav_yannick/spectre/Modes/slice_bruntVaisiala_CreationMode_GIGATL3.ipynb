{
 "cells": [
  {
   "cell_type": "code",
   "execution_count": 1,
   "metadata": {},
   "outputs": [],
   "source": [
    "from matplotlib import pyplot as plt\n",
    "import numpy as np\n",
    "import xarray as xr\n",
    "import pandas as pd\n",
    "from xgcm import Grid\n",
    "import dask.array as da\n",
    "\n",
    "from scipy.signal import savgol_filter\n",
    "\n",
    "from modes_func import *\n",
    "from definition.defPrincipal import *"
   ]
  },
  {
   "cell_type": "code",
   "execution_count": 2,
   "metadata": {},
   "outputs": [],
   "source": [
    "def adjust_grid(ds):\n",
    "        # relevant to regular/analytical grid for now\n",
    "        #\n",
    "        ds = ds.reset_coords([c for c in ds.coords if 'nav' in c])\n",
    "        \n",
    "        # rename redundant dimensions\n",
    "        _dims = (d for d in ['x_v', 'y_u', 'x_w', 'y_w'] if d in ds.dims)\n",
    "        for d in _dims:\n",
    "            ds = ds.rename({d: d[0]+'_rho'})\n",
    "                \n",
    "        # change nav variables to coordinates        \n",
    "        _coords = [d for d in [d for d in ds.data_vars.keys()] if \"nav_\" in d]\n",
    "        ds = ds.set_coords(_coords) \n",
    "        \n",
    "        # rename coordinates \n",
    "        eta_suff={}\n",
    "        for c in ds.coords:\n",
    "            new_c = c.replace('nav_lat','eta').replace('nav_lon','xi')\n",
    "            ds = ds.rename({c:new_c})\n",
    "            # reset names and units\n",
    "            ds[new_c] = (ds[new_c].assign_attrs(units='m', \n",
    "                                               standard_name=new_c,\n",
    "                                               long_name=new_c)\n",
    "                        )\n",
    "        return ds\n",
    "    \n",
    "\n",
    "def addGrille(ds):\n",
    "    # On récupère la liste des fichiers à ouvrir via le fichier liste \n",
    "    path = \"../\"\n",
    "    gridname = path+'gigatl3_grid.nc'\n",
    "    gd = xr.open_dataset(gridname, chunks={'s_rho': 1})\n",
    "    ds['hc'] = gd.hc\n",
    "    ds['h'] = gd.h\n",
    "    # ds['Vtransform'] = gd.Vtransform\n",
    "    ds['sc_r'] = gd.sc_r\n",
    "    ds['sc_w'] = gd.sc_w\n",
    "    ds['Cs_r'] = gd.Cs_r\n",
    "    ds['Cs_w'] = gd.Cs_w\n",
    "    ds['angle'] = gd.angle\n",
    "    ds['mask_rho'] = gd.mask_rho\n",
    "\n",
    "    # On modifie des dimensions et des coordonnées, on crée la grille xgcm\n",
    "    ds = adjust_grid(ds)\n",
    "    L = ds.dims['x_rho']\n",
    "    M = ds.dims['y_rho']\n",
    "    N = ds.dims['s_rho']\n",
    "\n",
    "    # On crée la grille xgcm\n",
    "    ds = xgcm_grid(ds)\n",
    "    grid = ds.attrs['xgcm-Grid']\n",
    "    return ds, grid\n",
    "\n",
    "    \n",
    "def xgcm_grid(ds):\n",
    "        # Create xgcm grid\n",
    "        coords={'xi':{'center':'x_rho', 'inner':'x_u'}, \n",
    "                'eta':{'center':'y_rho', 'inner':'y_v'}, \n",
    "                's':{'center':'s_rho', 'outer':'s_w'}}\n",
    "        ds.attrs['xgcm-Grid'] = Grid(ds, coords=coords)\n",
    "        \n",
    "        return ds"
   ]
  },
  {
   "cell_type": "code",
   "execution_count": 3,
   "metadata": {},
   "outputs": [],
   "source": [
    "file_mean_4Y = '../bvfDATA/bvf_4Y_23_G3.nc'\n",
    "ds_4Y = xr.open_dataset(file_mean_4Y)\n",
    "ds_4Y\n",
    "\n",
    "N = (ds_4Y.bvf.values)**(1/2)\n",
    "z = ds_4Y.z.values\n",
    "\n",
    "\n"
   ]
  },
  {
   "cell_type": "code",
   "execution_count": 4,
   "metadata": {},
   "outputs": [],
   "source": [
    "exp_mean_month = 'bvf_GIGATL3'\n",
    "indir = '../bvfDATA/'\n",
    "infile = indir+exp_mean_month+'.nc'\n",
    "ds = xr.open_dataset(infile)\n",
    "dsZeta = xr.open_dataset('../bvfDATA/zeta_GIGATL3.nc')\n",
    "ds, grid = addGrille(ds)\n",
    "dsZeta, grid = addGrille(dsZeta)\n",
    "ds['Vtransform'] = 2\n",
    "dsZeta = dsZeta.isel(time_counter = 0, x_rho = slice(0,None,2), y_rho = slice(0,None,2))\n",
    "ds = ds.isel(time_counter = 0, x_rho = slice(0,None,2), y_rho = slice(0,None,2))\n",
    "\n",
    "\n",
    "# Compute depth at rho point\n",
    "z_m = get_z(ds,zeta=dsZeta['zeta'],hgrid='r').compute()\n",
    "bvf=w2rho(ds.bvf,ds)\n",
    "#plot slice latitude\n",
    "yrho, xrho = findLatLonIndex(ds, -23.,0.)\n",
    "bvf_mean_month=bvf.isel(x_rho = xrho, y_rho = yrho)\n",
    "N = (bvf_mean_month.values)**(1/2)\n",
    "z = z_m.isel(x_rho = xrho, y_rho = yrho).values"
   ]
  },
  {
   "cell_type": "code",
   "execution_count": 4,
   "metadata": {},
   "outputs": [],
   "source": [
    "## Compute vertical eigenmodes\n",
    "\n",
    "phi,lmbd,zz = SL_chebsolve((N), (z), Nmod=\"auto\", Nz=\"auto\", grav=9.80,sm=50, ksplin=3, zbot=None)\n",
    "\n",
    "modes = phi[1]\n",
    "\n",
    "eigval = np.real(lmbd)\n",
    "\n",
    "for i in range(modes.shape[1]):\n",
    "    modes[:,i]=norm_mode(modes[:,i],zz)\n",
    "\n",
    "\n",
    "modes[:,0] = np.ones(modes[:,0].shape)"
   ]
  },
  {
   "cell_type": "code",
   "execution_count": 5,
   "metadata": {},
   "outputs": [],
   "source": [
    "namevar='modes'\n",
    "modeCDFm = xr.Dataset({namevar:(['wmod','umod'],modes)})\n",
    "modeCDFm.to_netcdf('modes_G3_4Y.nc')"
   ]
  },
  {
   "cell_type": "code",
   "execution_count": 6,
   "metadata": {},
   "outputs": [],
   "source": [
    "namevar='lamba'\n",
    "modeCDF = xr.Dataset({namevar:(['lambda'],eigval)})\n",
    "modeCDF.to_netcdf('lambda_G3_4Y.nc')"
   ]
  },
  {
   "cell_type": "code",
   "execution_count": 7,
   "metadata": {},
   "outputs": [],
   "source": [
    "namevar='zz'\n",
    "modeCDF = xr.Dataset({namevar:(['zz'],zz)})\n",
    "modeCDF.to_netcdf('zz_3.nc')"
   ]
  },
  {
   "cell_type": "code",
   "execution_count": 8,
   "metadata": {},
   "outputs": [
    {
     "data": {
      "image/png": "[encoded data removed]",
      "text/plain": [
       "<Figure size 1080x720 with 1 Axes>"
      ]
     },
     "metadata": {
      "needs_background": "light"
     },
     "output_type": "display_data"
    }
   ],
   "source": [
    "plt.figure(figsize=(15,10))\n",
    "plt.plot(modes[:,1],(zz))\n",
    "plt.grid()"
   ]
  }
 ],
 "metadata": {
  "kernelspec": {
   "display_name": "Python 3",
   "language": "python",
   "name": "python3"
  },
  "language_info": {
   "codemirror_mode": {
    "name": "ipython",
    "version": 3
   },
   "file_extension": ".py",
   "mimetype": "text/x-python",
   "name": "python",
   "nbconvert_exporter": "python",
   "pygments_lexer": "ipython3",
   "version": "3.7.10"
  }
 },
 "nbformat": 4,
 "nbformat_minor": 4
}
